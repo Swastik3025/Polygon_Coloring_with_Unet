{
  "nbformat": 4,
  "nbformat_minor": 0,
  "metadata": {
    "colab": {
      "provenance": [],
      "gpuType": "T4",
      "authorship_tag": "ABX9TyNs5SOcHJEHcg6c9zJ3PAqK",
      "include_colab_link": true
    },
    "kernelspec": {
      "name": "python3",
      "display_name": "Python 3"
    },
    "language_info": {
      "name": "python"
    },
    "accelerator": "GPU"
  },
  "cells": [
    {
      "cell_type": "markdown",
      "metadata": {
        "id": "view-in-github",
        "colab_type": "text"
      },
      "source": [
        "<a href=\"https://colab.research.google.com/github/Swastik3025/Polygon_Coloring_with_Unet/blob/main/Ayna_Assignment.ipynb\" target=\"_parent\"><img src=\"https://colab.research.google.com/assets/colab-badge.svg\" alt=\"Open In Colab\"/></a>"
      ]
    },
    {
      "cell_type": "markdown",
      "source": [
        "##Setting up Environment"
      ],
      "metadata": {
        "id": "HYvH8Z4wOje-"
      }
    },
    {
      "cell_type": "code",
      "execution_count": 30,
      "metadata": {
        "colab": {
          "base_uri": "https://localhost:8080/"
        },
        "id": "aR-1yBREOa0l",
        "outputId": "eabf1ec2-4a9d-4082-cc70-a68343cf6128"
      },
      "outputs": [
        {
          "output_type": "stream",
          "name": "stdout",
          "text": [
            "Requirement already satisfied: torch in /usr/local/lib/python3.11/dist-packages (2.6.0+cu124)\n",
            "Requirement already satisfied: torchvision in /usr/local/lib/python3.11/dist-packages (0.21.0+cu124)\n",
            "Requirement already satisfied: wandb in /usr/local/lib/python3.11/dist-packages (0.21.0)\n",
            "Requirement already satisfied: filelock in /usr/local/lib/python3.11/dist-packages (from torch) (3.18.0)\n",
            "Requirement already satisfied: typing-extensions>=4.10.0 in /usr/local/lib/python3.11/dist-packages (from torch) (4.14.1)\n",
            "Requirement already satisfied: networkx in /usr/local/lib/python3.11/dist-packages (from torch) (3.5)\n",
            "Requirement already satisfied: jinja2 in /usr/local/lib/python3.11/dist-packages (from torch) (3.1.6)\n",
            "Requirement already satisfied: fsspec in /usr/local/lib/python3.11/dist-packages (from torch) (2025.3.0)\n",
            "Requirement already satisfied: nvidia-cuda-nvrtc-cu12==12.4.127 in /usr/local/lib/python3.11/dist-packages (from torch) (12.4.127)\n",
            "Requirement already satisfied: nvidia-cuda-runtime-cu12==12.4.127 in /usr/local/lib/python3.11/dist-packages (from torch) (12.4.127)\n",
            "Requirement already satisfied: nvidia-cuda-cupti-cu12==12.4.127 in /usr/local/lib/python3.11/dist-packages (from torch) (12.4.127)\n",
            "Requirement already satisfied: nvidia-cudnn-cu12==9.1.0.70 in /usr/local/lib/python3.11/dist-packages (from torch) (9.1.0.70)\n",
            "Requirement already satisfied: nvidia-cublas-cu12==12.4.5.8 in /usr/local/lib/python3.11/dist-packages (from torch) (12.4.5.8)\n",
            "Requirement already satisfied: nvidia-cufft-cu12==11.2.1.3 in /usr/local/lib/python3.11/dist-packages (from torch) (11.2.1.3)\n",
            "Requirement already satisfied: nvidia-curand-cu12==10.3.5.147 in /usr/local/lib/python3.11/dist-packages (from torch) (10.3.5.147)\n",
            "Requirement already satisfied: nvidia-cusolver-cu12==11.6.1.9 in /usr/local/lib/python3.11/dist-packages (from torch) (11.6.1.9)\n",
            "Requirement already satisfied: nvidia-cusparse-cu12==12.3.1.170 in /usr/local/lib/python3.11/dist-packages (from torch) (12.3.1.170)\n",
            "Requirement already satisfied: nvidia-cusparselt-cu12==0.6.2 in /usr/local/lib/python3.11/dist-packages (from torch) (0.6.2)\n",
            "Requirement already satisfied: nvidia-nccl-cu12==2.21.5 in /usr/local/lib/python3.11/dist-packages (from torch) (2.21.5)\n",
            "Requirement already satisfied: nvidia-nvtx-cu12==12.4.127 in /usr/local/lib/python3.11/dist-packages (from torch) (12.4.127)\n",
            "Requirement already satisfied: nvidia-nvjitlink-cu12==12.4.127 in /usr/local/lib/python3.11/dist-packages (from torch) (12.4.127)\n",
            "Requirement already satisfied: triton==3.2.0 in /usr/local/lib/python3.11/dist-packages (from torch) (3.2.0)\n",
            "Requirement already satisfied: sympy==1.13.1 in /usr/local/lib/python3.11/dist-packages (from torch) (1.13.1)\n",
            "Requirement already satisfied: mpmath<1.4,>=1.1.0 in /usr/local/lib/python3.11/dist-packages (from sympy==1.13.1->torch) (1.3.0)\n",
            "Requirement already satisfied: numpy in /usr/local/lib/python3.11/dist-packages (from torchvision) (2.0.2)\n",
            "Requirement already satisfied: pillow!=8.3.*,>=5.3.0 in /usr/local/lib/python3.11/dist-packages (from torchvision) (11.3.0)\n",
            "Requirement already satisfied: click!=8.0.0,>=7.1 in /usr/local/lib/python3.11/dist-packages (from wandb) (8.2.1)\n",
            "Requirement already satisfied: gitpython!=3.1.29,>=1.0.0 in /usr/local/lib/python3.11/dist-packages (from wandb) (3.1.45)\n",
            "Requirement already satisfied: packaging in /usr/local/lib/python3.11/dist-packages (from wandb) (25.0)\n",
            "Requirement already satisfied: platformdirs in /usr/local/lib/python3.11/dist-packages (from wandb) (4.3.8)\n",
            "Requirement already satisfied: protobuf!=4.21.0,!=5.28.0,<7,>=3.19.0 in /usr/local/lib/python3.11/dist-packages (from wandb) (5.29.5)\n",
            "Requirement already satisfied: pydantic<3 in /usr/local/lib/python3.11/dist-packages (from wandb) (2.11.7)\n",
            "Requirement already satisfied: pyyaml in /usr/local/lib/python3.11/dist-packages (from wandb) (6.0.2)\n",
            "Requirement already satisfied: requests<3,>=2.0.0 in /usr/local/lib/python3.11/dist-packages (from wandb) (2.32.3)\n",
            "Requirement already satisfied: sentry-sdk>=2.0.0 in /usr/local/lib/python3.11/dist-packages (from wandb) (2.33.2)\n",
            "Requirement already satisfied: gitdb<5,>=4.0.1 in /usr/local/lib/python3.11/dist-packages (from gitpython!=3.1.29,>=1.0.0->wandb) (4.0.12)\n",
            "Requirement already satisfied: annotated-types>=0.6.0 in /usr/local/lib/python3.11/dist-packages (from pydantic<3->wandb) (0.7.0)\n",
            "Requirement already satisfied: pydantic-core==2.33.2 in /usr/local/lib/python3.11/dist-packages (from pydantic<3->wandb) (2.33.2)\n",
            "Requirement already satisfied: typing-inspection>=0.4.0 in /usr/local/lib/python3.11/dist-packages (from pydantic<3->wandb) (0.4.1)\n",
            "Requirement already satisfied: charset-normalizer<4,>=2 in /usr/local/lib/python3.11/dist-packages (from requests<3,>=2.0.0->wandb) (3.4.2)\n",
            "Requirement already satisfied: idna<4,>=2.5 in /usr/local/lib/python3.11/dist-packages (from requests<3,>=2.0.0->wandb) (3.10)\n",
            "Requirement already satisfied: urllib3<3,>=1.21.1 in /usr/local/lib/python3.11/dist-packages (from requests<3,>=2.0.0->wandb) (2.5.0)\n",
            "Requirement already satisfied: certifi>=2017.4.17 in /usr/local/lib/python3.11/dist-packages (from requests<3,>=2.0.0->wandb) (2025.7.14)\n",
            "Requirement already satisfied: MarkupSafe>=2.0 in /usr/local/lib/python3.11/dist-packages (from jinja2->torch) (3.0.2)\n",
            "Requirement already satisfied: smmap<6,>=3.0.1 in /usr/local/lib/python3.11/dist-packages (from gitdb<5,>=4.0.1->gitpython!=3.1.29,>=1.0.0->wandb) (5.0.2)\n"
          ]
        }
      ],
      "source": [
        "pip install torch torchvision wandb"
      ]
    },
    {
      "cell_type": "markdown",
      "metadata": {
        "id": "51d3708f"
      },
      "source": [
        "## Download and extract dataset\n",
        "\n"
      ]
    },
    {
      "cell_type": "code",
      "metadata": {
        "colab": {
          "base_uri": "https://localhost:8080/"
        },
        "id": "9252ba34",
        "outputId": "13122ea1-a61b-40fb-91f6-23d39892a63c"
      },
      "source": [
        "from google.colab import drive\n",
        "drive.mount('/content/drive')"
      ],
      "execution_count": 31,
      "outputs": [
        {
          "output_type": "stream",
          "name": "stdout",
          "text": [
            "Drive already mounted at /content/drive; to attempt to forcibly remount, call drive.mount(\"/content/drive\", force_remount=True).\n"
          ]
        }
      ]
    },
    {
      "cell_type": "code",
      "metadata": {
        "colab": {
          "base_uri": "https://localhost:8080/"
        },
        "id": "732c6000",
        "outputId": "ff66818e-868f-4e0a-ebcf-0f3fde795186"
      },
      "source": [
        "import os\n",
        "\n",
        "zip_path = '/content/drive/MyDrive/dataset.zip'\n",
        "\n",
        "extract_dir = '/content/'\n",
        "\n",
        "# Check whether the zip file exists\n",
        "if os.path.exists(zip_path):\n",
        "    # Unzipping the dataset\n",
        "    !unzip -q \"{zip_path}\" -d \"{extract_dir}\"\n",
        "    print(\"Dataset extracted successfully.\")\n",
        "else:\n",
        "    # throwing error if the data set is not present in the Source\n",
        "    print(f\"Error: {zip_path} not found in your Google Drive.\")"
      ],
      "execution_count": 32,
      "outputs": [
        {
          "output_type": "stream",
          "name": "stdout",
          "text": [
            "replace /content/dataset/.DS_Store? [y]es, [n]o, [A]ll, [N]one, [r]ename: A\n",
            "Dataset extracted successfully.\n"
          ]
        }
      ]
    },
    {
      "cell_type": "markdown",
      "metadata": {
        "id": "ffb491ea"
      },
      "source": [
        "## Explore dataset"
      ]
    },
    {
      "cell_type": "code",
      "metadata": {
        "colab": {
          "base_uri": "https://localhost:8080/"
        },
        "id": "48e3755d",
        "outputId": "956bf4df-83cb-4dd5-a176-4819ffe6f27c"
      },
      "source": [
        "import json\n",
        "\n",
        "dataset_path = '/content/dataset'\n",
        "training_path = os.path.join(dataset_path, 'training')\n",
        "validation_path = os.path.join(dataset_path, 'validation')\n",
        "\n",
        "# Inspect the contents of the training and validation directories\n",
        "print(\"Training directory contents:\", os.listdir(training_path))\n",
        "print(\"Validation directory contents:\", os.listdir(validation_path))\n",
        "\n",
        "# Load and inspect the data.json files\n",
        "with open(os.path.join(training_path, 'data.json'), 'r') as f:\n",
        "    training_data = json.load(f)\n",
        "print(\"\\nTraining data.json structure (first 5 entries):\")\n",
        "for i, entry in enumerate(training_data):\n",
        "    if i < 5:\n",
        "        print(f\"Entry {i}: {entry}\")\n",
        "    else:\n",
        "        break\n",
        "\n",
        "with open(os.path.join(validation_path, 'data.json'), 'r') as f:\n",
        "    validation_data = json.load(f)\n",
        "print(\"\\nValidation data.json structure (first 5 entries):\")\n",
        "for i, entry in enumerate(validation_data):\n",
        "    if i < 5:\n",
        "        print(f\"Entry {i}: {entry}\")\n",
        "    else:\n",
        "        break\n",
        "\n",
        "\n",
        "# Inspect image file names in input and output directories (first 5)\n",
        "print(\"\\nTraining input images (first 5):\", os.listdir(os.path.join(training_path, 'inputs'))[:5])\n",
        "print(\"Training output images (first 5):\", os.listdir(os.path.join(training_path, 'outputs'))[:5])\n",
        "print(\"Validation input images (first 5):\", os.listdir(os.path.join(validation_path, 'inputs'))[:5])\n",
        "print(\"Validation output images (first 5):\", os.listdir(os.path.join(validation_path, 'outputs'))[:5])"
      ],
      "execution_count": 33,
      "outputs": [
        {
          "output_type": "stream",
          "name": "stdout",
          "text": [
            "Training directory contents: ['outputs', 'inputs', 'data.json']\n",
            "Validation directory contents: ['outputs', 'inputs', 'data.json']\n",
            "\n",
            "Training data.json structure (first 5 entries):\n",
            "Entry 0: {'input_polygon': 'octagon.png', 'colour': 'cyan', 'output_image': 'cyan_octagon.png'}\n",
            "Entry 1: {'input_polygon': 'square.png', 'colour': 'purple', 'output_image': 'purple_square.png'}\n",
            "Entry 2: {'input_polygon': 'hexagon.png', 'colour': 'magenta', 'output_image': 'magenta_hexagon.png'}\n",
            "Entry 3: {'input_polygon': 'square.png', 'colour': 'magenta', 'output_image': 'magenta_square.png'}\n",
            "Entry 4: {'input_polygon': 'hexagon.png', 'colour': 'purple', 'output_image': 'purple_hexagon.png'}\n",
            "\n",
            "Validation data.json structure (first 5 entries):\n",
            "Entry 0: {'input_polygon': 'star.png', 'colour': 'yellow', 'output_image': 'yellow_star.png'}\n",
            "Entry 1: {'input_polygon': 'triangle.png', 'colour': 'green', 'output_image': 'green_triangle.png'}\n",
            "Entry 2: {'input_polygon': 'octagon.png', 'colour': 'blue', 'output_image': 'blue_octagon.png'}\n",
            "Entry 3: {'input_polygon': 'square.png', 'colour': 'yellow', 'output_image': 'yellow_square.png'}\n",
            "Entry 4: {'input_polygon': 'square.png', 'colour': 'cyan', 'output_image': 'cyan_square.png'}\n",
            "\n",
            "Training input images (first 5): ['triangle.png', 'pentagon.png', 'octagon.png', 'star.png', 'circle.png']\n",
            "Training output images (first 5): ['magenta_pentagon.png', 'green_diamond.png', 'green_circle.png', 'green_octagon.png', 'magenta_diamond.png']\n",
            "Validation input images (first 5): ['triangle.png', 'octagon.png', 'star.png', 'square.png']\n",
            "Validation output images (first 5): ['green_triangle.png', 'blue_octagon.png', 'yellow_square.png', 'cyan_square.png', 'yellow_star.png']\n"
          ]
        }
      ]
    },
    {
      "cell_type": "markdown",
      "metadata": {
        "id": "445d0dfe"
      },
      "source": [
        "## Implementing Custom Dataset and DataLoader\n",
        "\n"
      ]
    },
    {
      "cell_type": "code",
      "metadata": {
        "colab": {
          "base_uri": "https://localhost:8080/"
        },
        "id": "aa9aba50",
        "outputId": "fe8e3248-506f-45dc-a580-1ac6c38b1c2d"
      },
      "source": [
        "from PIL import Image\n",
        "import torch\n",
        "from torch.utils.data import Dataset, DataLoader\n",
        "import torchvision.transforms as transforms\n",
        "\n",
        "class PolygonDataset(Dataset):\n",
        "    def __init__(self, data_path, transform=None):\n",
        "        self.data_path = data_path\n",
        "        self.transform = transform\n",
        "\n",
        "        with open(os.path.join(data_path, 'data.json'), 'r') as f:\n",
        "            self.data = json.load(f)\n",
        "\n",
        "        self.input_dir = os.path.join(data_path, 'inputs')\n",
        "        self.output_dir = os.path.join(data_path, 'outputs')\n",
        "\n",
        "        # Embeddings/Mappings for the colours\n",
        "        self.color_mapping = {\n",
        "            \"red\": [1, 0, 0, 0, 0, 0],\n",
        "            \"green\": [0, 1, 0, 0, 0, 0],\n",
        "            \"blue\": [0, 0, 1, 0, 0, 0],\n",
        "            \"cyan\": [0, 0, 0, 1, 0, 0],\n",
        "            \"magenta\": [0, 0, 0, 0, 1, 0],\n",
        "            \"yellow\": [0, 0, 0, 0, 0, 1]\n",
        "        }\n",
        "\n",
        "\n",
        "    def __len__(self):\n",
        "        return len(self.data)\n",
        "\n",
        "    def __getitem__(self, idx):\n",
        "        entry = self.data[idx]\n",
        "        input_filename = entry['input_polygon']\n",
        "        output_filename = entry['output_image']\n",
        "        color_name = entry['colour']\n",
        "\n",
        "        input_image_path = os.path.join(self.input_dir, input_filename)\n",
        "        output_image_path = os.path.join(self.output_dir, output_filename)\n",
        "\n",
        "        input_image = Image.open(input_image_path).convert('RGB')\n",
        "        output_image = Image.open(output_image_path).convert('RGB')\n",
        "\n",
        "        if self.transform:\n",
        "            input_image = self.transform(input_image)\n",
        "            output_image = self.transform(output_image)\n",
        "\n",
        "        # Convert color name to numerical representation\n",
        "        color_vector = torch.tensor(self.color_mapping.get(color_name, [0] * 6), dtype=torch.float32) # Default to zero vector if color not found\n",
        "\n",
        "        return input_image, color_vector, output_image\n",
        "\n",
        "# Define transformations\n",
        "transform = transforms.Compose([\n",
        "    transforms.Resize((256, 256)), # Resize images to a fixed size\n",
        "    transforms.ToTensor(),       # Convert images to PyTorch tensors\n",
        "])\n",
        "\n",
        "# Creating dataset instances\n",
        "train_dataset = PolygonDataset(data_path='/content/dataset/training', transform=transform)\n",
        "val_dataset = PolygonDataset(data_path='/content/dataset/validation', transform=transform)\n",
        "\n",
        "# Creating DataLoaders\n",
        "train_dataloader = DataLoader(train_dataset, batch_size=32, shuffle=True)\n",
        "val_dataloader = DataLoader(val_dataset, batch_size=32, shuffle=False)\n",
        "\n",
        "print(\"Dataset and DataLoader created successfully.\")\n",
        "print(\"Number of training samples:\", len(train_dataset))\n",
        "print(\"Number of validation samples:\", len(val_dataset))\n",
        "\n",
        "# Example of accessing a batch of data\n",
        "input_images, color_vectors, output_images = next(iter(train_dataloader))\n",
        "print(\"\\nExample batch shapes:\")\n",
        "print(\"Input images shape:\", input_images.shape)\n",
        "print(\"Color vectors shape:\", color_vectors.shape)\n",
        "print(\"Output images shape:\", output_images.shape)"
      ],
      "execution_count": 34,
      "outputs": [
        {
          "output_type": "stream",
          "name": "stdout",
          "text": [
            "Dataset and DataLoader created successfully.\n",
            "Number of training samples: 56\n",
            "Number of validation samples: 5\n",
            "\n",
            "Example batch shapes:\n",
            "Input images shape: torch.Size([32, 3, 256, 256])\n",
            "Color vectors shape: torch.Size([32, 6])\n",
            "Output images shape: torch.Size([32, 3, 256, 256])\n"
          ]
        }
      ]
    },
    {
      "cell_type": "markdown",
      "metadata": {
        "id": "607787ef"
      },
      "source": [
        "## Implementing UNet Model"
      ]
    },
    {
      "cell_type": "code",
      "metadata": {
        "colab": {
          "base_uri": "https://localhost:8080/"
        },
        "id": "6468b956",
        "outputId": "bf291b3b-ee54-4a48-e8b3-ddc3f160a0df"
      },
      "source": [
        "import torch\n",
        "import torch.nn as nn\n",
        "import torch.nn.functional as F\n",
        "\n",
        "class DoubleConv(nn.Module):\n",
        "    \"\"\"(convolution => [BN] => ReLU) * 2\"\"\"\n",
        "    def __init__(self, in_channels, out_channels):\n",
        "        super().__init__()\n",
        "        self.double_conv = nn.Sequential(\n",
        "            nn.Conv2d(in_channels, out_channels, kernel_size=3, padding=1),\n",
        "            nn.BatchNorm2d(out_channels),\n",
        "            nn.ReLU(inplace=True),\n",
        "            nn.Conv2d(out_channels, out_channels, kernel_size=3, padding=1),\n",
        "            nn.BatchNorm2d(out_channels),\n",
        "            nn.ReLU(inplace=True)\n",
        "        )\n",
        "\n",
        "    def forward(self, x):\n",
        "        return self.double_conv(x)\n",
        "\n",
        "class Down(nn.Module):\n",
        "    \"\"\"Downsampling with maxpool then double conv\"\"\"\n",
        "    def __init__(self, in_channels, out_channels):\n",
        "        super().__init__()\n",
        "        self.maxpool_conv = nn.Sequential(\n",
        "            nn.MaxPool2d(2),\n",
        "            DoubleConv(in_channels, out_channels)\n",
        "        )\n",
        "\n",
        "    def forward(self, x):\n",
        "        return self.maxpool_conv(x)\n",
        "\n",
        "class Up(nn.Module):\n",
        "    \"\"\"Upsampling then double conv\"\"\"\n",
        "    def __init__(self, in_channels, out_channels, bilinear=True):\n",
        "        super().__init__()\n",
        "\n",
        "        # if bilinear, use the normal convolutions to reduce the number of channels\n",
        "        if bilinear:\n",
        "            self.up = nn.Upsample(scale_factor=2, mode='bilinear', align_corners=True)\n",
        "        else:\n",
        "            self.up = nn.ConvTranspose2d(in_channels // 2, in_channels // 2, kernel_size=2, stride=2)\n",
        "\n",
        "        self.conv = DoubleConv(in_channels, out_channels)\n",
        "\n",
        "    def forward(self, x1, x2):\n",
        "        x1 = self.up(x1)\n",
        "        # input is CHW\n",
        "        diffY = x2.size()[2] - x1.size()[2]\n",
        "        diffX = x2.size()[3] - x1.size()[3]\n",
        "\n",
        "        x1 = F.pad(x1, [diffX // 2, diffX - diffX // 2,\n",
        "                        diffY // 2, diffY - diffY // 2])\n",
        "\n",
        "        x = torch.cat([x2, x1], dim=1)\n",
        "        return self.conv(x)\n",
        "\n",
        "\n",
        "class OutConv(nn.Module):\n",
        "    def __init__(self, in_channels, out_channels):\n",
        "        super(OutConv, self).__init__()\n",
        "        self.conv = nn.Conv2d(in_channels, out_channels, kernel_size=1)\n",
        "\n",
        "    def forward(self, x):\n",
        "        return self.conv(x)\n",
        "\n",
        "class UNet(nn.Module):\n",
        "    def __init__(self, n_channels, n_classes, n_colors, bilinear=True):\n",
        "        super(UNet, self).__init__()\n",
        "        self.n_channels = n_channels\n",
        "        self.n_classes = n_classes\n",
        "        self.n_colors = n_colors\n",
        "        self.bilinear = bilinear\n",
        "\n",
        "        self.inc = DoubleConv(n_channels + n_colors, 64) # Adjust input channels to include color info\n",
        "        self.down1 = Down(64, 128)\n",
        "        self.down2 = Down(128, 256)\n",
        "        self.down3 = Down(256, 512)\n",
        "        self.down4 = Down(512, 1024)\n",
        "        self.up1 = Up(1024 + 512, 512, bilinear)\n",
        "        self.up2 = Up(512 + 256, 256, bilinear)\n",
        "        self.up3 = Up(256 + 128, 128, bilinear)\n",
        "        self.up4 = Up(128 + 64, 64, bilinear)\n",
        "        self.outc = OutConv(64, n_classes)\n",
        "\n",
        "    def forward(self, x, colors):\n",
        "        # Expand color vector to match image dimensions\n",
        "        colors = colors.unsqueeze(-1).unsqueeze(-1).expand(-1, -1, x.size(2), x.size(3))\n",
        "        x = torch.cat([x, colors], dim=1) # Concatenate image and color info along channel dimension\n",
        "\n",
        "        x1 = self.inc(x)\n",
        "        x2 = self.down1(x1)\n",
        "        x3 = self.down2(x2)\n",
        "        x4 = self.down3(x3)\n",
        "        x5 = self.down4(x4)\n",
        "        x = self.up1(x5, x4)\n",
        "        x = self.up2(x, x3)\n",
        "        x = self.up3(x, x2)\n",
        "        x = self.up4(x, x1)\n",
        "        logits = self.outc(x)\n",
        "        return logits\n",
        "\n",
        "# Example usage:\n",
        "# Assuming input image has 3 channels (RGB) and output has 3 channels (RGB)\n",
        "# and color vector has 6 elements\n",
        "model = UNet(n_channels=3, n_classes=3, n_colors=6)\n",
        "print(\"UNet model created successfully.\")\n",
        "print(model)"
      ],
      "execution_count": 35,
      "outputs": [
        {
          "output_type": "stream",
          "name": "stdout",
          "text": [
            "UNet model created successfully.\n",
            "UNet(\n",
            "  (inc): DoubleConv(\n",
            "    (double_conv): Sequential(\n",
            "      (0): Conv2d(9, 64, kernel_size=(3, 3), stride=(1, 1), padding=(1, 1))\n",
            "      (1): BatchNorm2d(64, eps=1e-05, momentum=0.1, affine=True, track_running_stats=True)\n",
            "      (2): ReLU(inplace=True)\n",
            "      (3): Conv2d(64, 64, kernel_size=(3, 3), stride=(1, 1), padding=(1, 1))\n",
            "      (4): BatchNorm2d(64, eps=1e-05, momentum=0.1, affine=True, track_running_stats=True)\n",
            "      (5): ReLU(inplace=True)\n",
            "    )\n",
            "  )\n",
            "  (down1): Down(\n",
            "    (maxpool_conv): Sequential(\n",
            "      (0): MaxPool2d(kernel_size=2, stride=2, padding=0, dilation=1, ceil_mode=False)\n",
            "      (1): DoubleConv(\n",
            "        (double_conv): Sequential(\n",
            "          (0): Conv2d(64, 128, kernel_size=(3, 3), stride=(1, 1), padding=(1, 1))\n",
            "          (1): BatchNorm2d(128, eps=1e-05, momentum=0.1, affine=True, track_running_stats=True)\n",
            "          (2): ReLU(inplace=True)\n",
            "          (3): Conv2d(128, 128, kernel_size=(3, 3), stride=(1, 1), padding=(1, 1))\n",
            "          (4): BatchNorm2d(128, eps=1e-05, momentum=0.1, affine=True, track_running_stats=True)\n",
            "          (5): ReLU(inplace=True)\n",
            "        )\n",
            "      )\n",
            "    )\n",
            "  )\n",
            "  (down2): Down(\n",
            "    (maxpool_conv): Sequential(\n",
            "      (0): MaxPool2d(kernel_size=2, stride=2, padding=0, dilation=1, ceil_mode=False)\n",
            "      (1): DoubleConv(\n",
            "        (double_conv): Sequential(\n",
            "          (0): Conv2d(128, 256, kernel_size=(3, 3), stride=(1, 1), padding=(1, 1))\n",
            "          (1): BatchNorm2d(256, eps=1e-05, momentum=0.1, affine=True, track_running_stats=True)\n",
            "          (2): ReLU(inplace=True)\n",
            "          (3): Conv2d(256, 256, kernel_size=(3, 3), stride=(1, 1), padding=(1, 1))\n",
            "          (4): BatchNorm2d(256, eps=1e-05, momentum=0.1, affine=True, track_running_stats=True)\n",
            "          (5): ReLU(inplace=True)\n",
            "        )\n",
            "      )\n",
            "    )\n",
            "  )\n",
            "  (down3): Down(\n",
            "    (maxpool_conv): Sequential(\n",
            "      (0): MaxPool2d(kernel_size=2, stride=2, padding=0, dilation=1, ceil_mode=False)\n",
            "      (1): DoubleConv(\n",
            "        (double_conv): Sequential(\n",
            "          (0): Conv2d(256, 512, kernel_size=(3, 3), stride=(1, 1), padding=(1, 1))\n",
            "          (1): BatchNorm2d(512, eps=1e-05, momentum=0.1, affine=True, track_running_stats=True)\n",
            "          (2): ReLU(inplace=True)\n",
            "          (3): Conv2d(512, 512, kernel_size=(3, 3), stride=(1, 1), padding=(1, 1))\n",
            "          (4): BatchNorm2d(512, eps=1e-05, momentum=0.1, affine=True, track_running_stats=True)\n",
            "          (5): ReLU(inplace=True)\n",
            "        )\n",
            "      )\n",
            "    )\n",
            "  )\n",
            "  (down4): Down(\n",
            "    (maxpool_conv): Sequential(\n",
            "      (0): MaxPool2d(kernel_size=2, stride=2, padding=0, dilation=1, ceil_mode=False)\n",
            "      (1): DoubleConv(\n",
            "        (double_conv): Sequential(\n",
            "          (0): Conv2d(512, 1024, kernel_size=(3, 3), stride=(1, 1), padding=(1, 1))\n",
            "          (1): BatchNorm2d(1024, eps=1e-05, momentum=0.1, affine=True, track_running_stats=True)\n",
            "          (2): ReLU(inplace=True)\n",
            "          (3): Conv2d(1024, 1024, kernel_size=(3, 3), stride=(1, 1), padding=(1, 1))\n",
            "          (4): BatchNorm2d(1024, eps=1e-05, momentum=0.1, affine=True, track_running_stats=True)\n",
            "          (5): ReLU(inplace=True)\n",
            "        )\n",
            "      )\n",
            "    )\n",
            "  )\n",
            "  (up1): Up(\n",
            "    (up): Upsample(scale_factor=2.0, mode='bilinear')\n",
            "    (conv): DoubleConv(\n",
            "      (double_conv): Sequential(\n",
            "        (0): Conv2d(1536, 512, kernel_size=(3, 3), stride=(1, 1), padding=(1, 1))\n",
            "        (1): BatchNorm2d(512, eps=1e-05, momentum=0.1, affine=True, track_running_stats=True)\n",
            "        (2): ReLU(inplace=True)\n",
            "        (3): Conv2d(512, 512, kernel_size=(3, 3), stride=(1, 1), padding=(1, 1))\n",
            "        (4): BatchNorm2d(512, eps=1e-05, momentum=0.1, affine=True, track_running_stats=True)\n",
            "        (5): ReLU(inplace=True)\n",
            "      )\n",
            "    )\n",
            "  )\n",
            "  (up2): Up(\n",
            "    (up): Upsample(scale_factor=2.0, mode='bilinear')\n",
            "    (conv): DoubleConv(\n",
            "      (double_conv): Sequential(\n",
            "        (0): Conv2d(768, 256, kernel_size=(3, 3), stride=(1, 1), padding=(1, 1))\n",
            "        (1): BatchNorm2d(256, eps=1e-05, momentum=0.1, affine=True, track_running_stats=True)\n",
            "        (2): ReLU(inplace=True)\n",
            "        (3): Conv2d(256, 256, kernel_size=(3, 3), stride=(1, 1), padding=(1, 1))\n",
            "        (4): BatchNorm2d(256, eps=1e-05, momentum=0.1, affine=True, track_running_stats=True)\n",
            "        (5): ReLU(inplace=True)\n",
            "      )\n",
            "    )\n",
            "  )\n",
            "  (up3): Up(\n",
            "    (up): Upsample(scale_factor=2.0, mode='bilinear')\n",
            "    (conv): DoubleConv(\n",
            "      (double_conv): Sequential(\n",
            "        (0): Conv2d(384, 128, kernel_size=(3, 3), stride=(1, 1), padding=(1, 1))\n",
            "        (1): BatchNorm2d(128, eps=1e-05, momentum=0.1, affine=True, track_running_stats=True)\n",
            "        (2): ReLU(inplace=True)\n",
            "        (3): Conv2d(128, 128, kernel_size=(3, 3), stride=(1, 1), padding=(1, 1))\n",
            "        (4): BatchNorm2d(128, eps=1e-05, momentum=0.1, affine=True, track_running_stats=True)\n",
            "        (5): ReLU(inplace=True)\n",
            "      )\n",
            "    )\n",
            "  )\n",
            "  (up4): Up(\n",
            "    (up): Upsample(scale_factor=2.0, mode='bilinear')\n",
            "    (conv): DoubleConv(\n",
            "      (double_conv): Sequential(\n",
            "        (0): Conv2d(192, 64, kernel_size=(3, 3), stride=(1, 1), padding=(1, 1))\n",
            "        (1): BatchNorm2d(64, eps=1e-05, momentum=0.1, affine=True, track_running_stats=True)\n",
            "        (2): ReLU(inplace=True)\n",
            "        (3): Conv2d(64, 64, kernel_size=(3, 3), stride=(1, 1), padding=(1, 1))\n",
            "        (4): BatchNorm2d(64, eps=1e-05, momentum=0.1, affine=True, track_running_stats=True)\n",
            "        (5): ReLU(inplace=True)\n",
            "      )\n",
            "    )\n",
            "  )\n",
            "  (outc): OutConv(\n",
            "    (conv): Conv2d(64, 3, kernel_size=(1, 1), stride=(1, 1))\n",
            "  )\n",
            ")\n"
          ]
        }
      ]
    },
    {
      "cell_type": "markdown",
      "metadata": {
        "id": "3614cee6"
      },
      "source": [
        "## Setting up Weights & Biases\n"
      ]
    },
    {
      "cell_type": "code",
      "metadata": {
        "colab": {
          "base_uri": "https://localhost:8080/",
          "height": 524
        },
        "id": "47371e36",
        "outputId": "aeb2c39b-5c2e-48ca-8437-aea503667638"
      },
      "source": [
        "import wandb\n",
        "\n",
        "# Initialize wandb\n",
        "wandb.init(project=\"Ayna_Assignment\")\n",
        "\n",
        "# Log hyperparameters and configuration\n",
        "config = wandb.config\n",
        "config.learning_rate = 0.001\n",
        "config.epochs = 50\n",
        "config.batch_size = 32\n",
        "\n",
        "print(\"Weights & Biases initialized.\")"
      ],
      "execution_count": 36,
      "outputs": [
        {
          "output_type": "display_data",
          "data": {
            "text/plain": [
              "<IPython.core.display.HTML object>"
            ],
            "text/html": [
              "Finishing previous runs because reinit is set to 'default'."
            ]
          },
          "metadata": {}
        },
        {
          "output_type": "display_data",
          "data": {
            "text/plain": [
              "<IPython.core.display.HTML object>"
            ],
            "text/html": []
          },
          "metadata": {}
        },
        {
          "output_type": "display_data",
          "data": {
            "text/plain": [
              "<IPython.core.display.HTML object>"
            ],
            "text/html": [
              "<br>    <style><br>        .wandb-row {<br>            display: flex;<br>            flex-direction: row;<br>            flex-wrap: wrap;<br>            justify-content: flex-start;<br>            width: 100%;<br>        }<br>        .wandb-col {<br>            display: flex;<br>            flex-direction: column;<br>            flex-basis: 100%;<br>            flex: 1;<br>            padding: 10px;<br>        }<br>    </style><br><div class=\"wandb-row\"><div class=\"wandb-col\"><h3>Run history:</h3><br/><table class=\"wandb\"><tr><td>epoch</td><td>▁▁▁▁▁▂▂▂▂▂▂▂▂▃▃▃▄▄▄▄▅▅▅▅▅▆▆▆▆▆▆▇▇▇▇█████</td></tr><tr><td>epoch_train_loss</td><td>█▆▄▃▂▂▂▂▂▂▂▂▂▂▂▁▁▁▁▁▁▁▁▁▁▁▁▁▁▁▁▁▁▁▁▁▁▁▁▁</td></tr><tr><td>val_loss</td><td>▁▁▅█▃▁▁▁▁▁▁▁▁▁▁▁▁▁▁▁▁▁▁▁▁▁▁▁▁▁▁▁▁▁▁▁▁▁▁▁</td></tr></table><br/></div><div class=\"wandb-col\"><h3>Run summary:</h3><br/><table class=\"wandb\"><tr><td>epoch</td><td>50</td></tr><tr><td>epoch_train_loss</td><td>0.01638</td></tr><tr><td>val_loss</td><td>0.04081</td></tr></table><br/></div></div>"
            ]
          },
          "metadata": {}
        },
        {
          "output_type": "display_data",
          "data": {
            "text/plain": [
              "<IPython.core.display.HTML object>"
            ],
            "text/html": [
              " View run <strong style=\"color:#cdcd00\">worldly-donkey-5</strong> at: <a href='https://wandb.ai/swastiksparsh-indian-institute-of-technology/Ayna_Assignment/runs/bh8qdyph' target=\"_blank\">https://wandb.ai/swastiksparsh-indian-institute-of-technology/Ayna_Assignment/runs/bh8qdyph</a><br> View project at: <a href='https://wandb.ai/swastiksparsh-indian-institute-of-technology/Ayna_Assignment' target=\"_blank\">https://wandb.ai/swastiksparsh-indian-institute-of-technology/Ayna_Assignment</a><br>Synced 5 W&B file(s), 0 media file(s), 0 artifact file(s) and 0 other file(s)"
            ]
          },
          "metadata": {}
        },
        {
          "output_type": "display_data",
          "data": {
            "text/plain": [
              "<IPython.core.display.HTML object>"
            ],
            "text/html": [
              "Find logs at: <code>./wandb/run-20250804_150441-bh8qdyph/logs</code>"
            ]
          },
          "metadata": {}
        },
        {
          "output_type": "display_data",
          "data": {
            "text/plain": [
              "<IPython.core.display.HTML object>"
            ],
            "text/html": [
              "Tracking run with wandb version 0.21.0"
            ]
          },
          "metadata": {}
        },
        {
          "output_type": "display_data",
          "data": {
            "text/plain": [
              "<IPython.core.display.HTML object>"
            ],
            "text/html": [
              "Run data is saved locally in <code>/content/wandb/run-20250804_153351-psy7cjiu</code>"
            ]
          },
          "metadata": {}
        },
        {
          "output_type": "display_data",
          "data": {
            "text/plain": [
              "<IPython.core.display.HTML object>"
            ],
            "text/html": [
              "Syncing run <strong><a href='https://wandb.ai/swastiksparsh-indian-institute-of-technology/Ayna_Assignment/runs/psy7cjiu' target=\"_blank\">different-vortex-6</a></strong> to <a href='https://wandb.ai/swastiksparsh-indian-institute-of-technology/Ayna_Assignment' target=\"_blank\">Weights & Biases</a> (<a href='https://wandb.me/developer-guide' target=\"_blank\">docs</a>)<br>"
            ]
          },
          "metadata": {}
        },
        {
          "output_type": "display_data",
          "data": {
            "text/plain": [
              "<IPython.core.display.HTML object>"
            ],
            "text/html": [
              " View project at <a href='https://wandb.ai/swastiksparsh-indian-institute-of-technology/Ayna_Assignment' target=\"_blank\">https://wandb.ai/swastiksparsh-indian-institute-of-technology/Ayna_Assignment</a>"
            ]
          },
          "metadata": {}
        },
        {
          "output_type": "display_data",
          "data": {
            "text/plain": [
              "<IPython.core.display.HTML object>"
            ],
            "text/html": [
              " View run at <a href='https://wandb.ai/swastiksparsh-indian-institute-of-technology/Ayna_Assignment/runs/psy7cjiu' target=\"_blank\">https://wandb.ai/swastiksparsh-indian-institute-of-technology/Ayna_Assignment/runs/psy7cjiu</a>"
            ]
          },
          "metadata": {}
        },
        {
          "output_type": "stream",
          "name": "stdout",
          "text": [
            "Weights & Biases initialized.\n"
          ]
        }
      ]
    },
    {
      "cell_type": "markdown",
      "source": [
        "## Defining Loss and Optimizer for the task"
      ],
      "metadata": {
        "id": "ozKJifp2a8SP"
      }
    },
    {
      "cell_type": "code",
      "metadata": {
        "colab": {
          "base_uri": "https://localhost:8080/"
        },
        "id": "32d3a8de",
        "outputId": "4aa6e22d-f9ff-46be-c531-2273a43c77fe"
      },
      "source": [
        "import torch.optim as optim\n",
        "\n",
        "# Define loss function\n",
        "criterion = nn.MSELoss()\n",
        "\n",
        "# Define optimizer\n",
        "optimizer = optim.Adam(model.parameters(), lr=config.learning_rate)\n",
        "\n",
        "print(\"Loss function and optimizer defined.\")"
      ],
      "execution_count": 37,
      "outputs": [
        {
          "output_type": "stream",
          "name": "stdout",
          "text": [
            "Loss function and optimizer defined.\n"
          ]
        }
      ]
    },
    {
      "cell_type": "markdown",
      "metadata": {
        "id": "a0de7814"
      },
      "source": [
        "## Train the Model\n"
      ]
    },
    {
      "cell_type": "code",
      "metadata": {
        "colab": {
          "base_uri": "https://localhost:8080/"
        },
        "id": "c923a017",
        "outputId": "18c743ff-e756-4d29-de42-23cb85e53d59"
      },
      "source": [
        "# Move model to GPU if available\n",
        "device = torch.device('cuda' if torch.cuda.is_available() else 'cpu')\n",
        "model.to(device)\n",
        "\n",
        "# Early stopping parameters\n",
        "patience = 10  # Number of epochs to wait for improvement in validation loss\n",
        "best_val_loss = float('inf')\n",
        "epochs_without_improvement = 0\n",
        "\n",
        "# Training loop\n",
        "for epoch in range(config.epochs):\n",
        "    model.train()  # Set the model to training mode\n",
        "    running_loss = 0.0\n",
        "    for i, (inputs, colors, outputs) in enumerate(train_dataloader):\n",
        "        # Move data to the appropriate device\n",
        "        inputs, colors, outputs = inputs.to(device), colors.to(device), outputs.to(device)\n",
        "\n",
        "        # Zero the parameter gradients\n",
        "        optimizer.zero_grad()\n",
        "\n",
        "        # Forward pass\n",
        "        predicted_outputs = model(inputs, colors)\n",
        "\n",
        "        # Calculate loss\n",
        "        loss = criterion(predicted_outputs, outputs)\n",
        "\n",
        "        # Backward pass and optimize\n",
        "        loss.backward()\n",
        "        optimizer.step()\n",
        "\n",
        "        # Print statistics\n",
        "        running_loss += loss.item()\n",
        "        # Log batch training loss to wandb\n",
        "        if (i + 1) % 10 == 0:  # Log every 10 mini-batches\n",
        "            wandb.log({\"train_batch_loss\": running_loss / 10})\n",
        "            running_loss = 0.0\n",
        "\n",
        "    # Log epoch training loss\n",
        "    epoch_train_loss = running_loss / len(train_dataloader) if len(train_dataloader) > 0 else 0.0\n",
        "    print(f'Epoch [{epoch + 1}/{config.epochs}] finished. Average Training Loss: {epoch_train_loss:.4f}')\n",
        "    wandb.log({\"epoch_train_loss\": epoch_train_loss, \"epoch\": epoch + 1})\n",
        "\n",
        "    # Evaluate the model on the validation set after each epoch\n",
        "    model.eval()  # Set the model to evaluation mode\n",
        "    running_val_loss = 0.0\n",
        "    with torch.no_grad():  # Disable gradient calculation during evaluation\n",
        "        for inputs, colors, outputs in val_dataloader:\n",
        "            # Move data to the appropriate device\n",
        "            inputs, colors, outputs = inputs.to(device), colors.to(device), outputs.to(device)\n",
        "\n",
        "            # Forward pass\n",
        "            predicted_outputs = model(inputs, colors)\n",
        "\n",
        "            # Calculate loss\n",
        "            loss = criterion(predicted_outputs, outputs)\n",
        "\n",
        "            running_val_loss += loss.item()\n",
        "\n",
        "    # Calculate and log validation loss for the epoch\n",
        "    val_loss = running_val_loss / len(val_dataloader) if len(val_dataloader) > 0 else 0.0\n",
        "    print(f'Epoch [{epoch + 1}/{config.epochs}] Validation Loss: {val_loss:.4f}')\n",
        "    wandb.log({\"val_loss\": val_loss, \"epoch\": epoch + 1})\n",
        "\n",
        "    # Check for early stopping\n",
        "    if val_loss < best_val_loss:\n",
        "        best_val_loss = val_loss\n",
        "        epochs_without_improvement = 0\n",
        "        # Optionally save the best model state\n",
        "        torch.save(model.state_dict(), 'best_unet_polygon_coloring_model.pth')\n",
        "        print(\"Saved best model.\")\n",
        "    else:\n",
        "        epochs_without_improvement += 1\n",
        "        print(f\"Validation loss did not improve for {epochs_without_improvement} epochs.\")\n",
        "        if epochs_without_improvement >= patience:\n",
        "            print(f\"Early stopping after {epoch + 1} epochs due to no improvement in validation loss.\")\n",
        "            break # Stop training loop\n",
        "\n",
        "print(\"Finished Training\")"
      ],
      "execution_count": 38,
      "outputs": [
        {
          "output_type": "stream",
          "name": "stdout",
          "text": [
            "Epoch [1/50] finished. Average Training Loss: 1.0822\n",
            "Epoch [1/50] Validation Loss: 0.9279\n",
            "Saved best model.\n",
            "Epoch [2/50] finished. Average Training Loss: 0.7537\n",
            "Epoch [2/50] Validation Loss: 0.9160\n",
            "Saved best model.\n",
            "Epoch [3/50] finished. Average Training Loss: 0.5504\n",
            "Epoch [3/50] Validation Loss: 1.8176\n",
            "Validation loss did not improve for 1 epochs.\n",
            "Epoch [4/50] finished. Average Training Loss: 0.4460\n",
            "Epoch [4/50] Validation Loss: 7.8900\n",
            "Validation loss did not improve for 2 epochs.\n",
            "Epoch [5/50] finished. Average Training Loss: 0.3686\n",
            "Epoch [5/50] Validation Loss: 2.8603\n",
            "Validation loss did not improve for 3 epochs.\n",
            "Epoch [6/50] finished. Average Training Loss: 0.3008\n",
            "Epoch [6/50] Validation Loss: 0.8409\n",
            "Saved best model.\n",
            "Epoch [7/50] finished. Average Training Loss: 0.2693\n",
            "Epoch [7/50] Validation Loss: 0.5507\n",
            "Saved best model.\n",
            "Epoch [8/50] finished. Average Training Loss: 0.2098\n",
            "Epoch [8/50] Validation Loss: 0.4581\n",
            "Saved best model.\n",
            "Epoch [9/50] finished. Average Training Loss: 0.1882\n",
            "Epoch [9/50] Validation Loss: 0.3854\n",
            "Saved best model.\n",
            "Epoch [10/50] finished. Average Training Loss: 0.2143\n",
            "Epoch [10/50] Validation Loss: 0.3128\n",
            "Saved best model.\n",
            "Epoch [11/50] finished. Average Training Loss: 0.1403\n",
            "Epoch [11/50] Validation Loss: 0.2583\n",
            "Saved best model.\n",
            "Epoch [12/50] finished. Average Training Loss: 0.1282\n",
            "Epoch [12/50] Validation Loss: 0.2152\n",
            "Saved best model.\n",
            "Epoch [13/50] finished. Average Training Loss: 0.1118\n",
            "Epoch [13/50] Validation Loss: 0.1800\n",
            "Saved best model.\n",
            "Epoch [14/50] finished. Average Training Loss: 0.1176\n",
            "Epoch [14/50] Validation Loss: 0.1542\n",
            "Saved best model.\n",
            "Epoch [15/50] finished. Average Training Loss: 0.0943\n",
            "Epoch [15/50] Validation Loss: 0.1335\n",
            "Saved best model.\n",
            "Epoch [16/50] finished. Average Training Loss: 0.0858\n",
            "Epoch [16/50] Validation Loss: 0.1178\n",
            "Saved best model.\n",
            "Epoch [17/50] finished. Average Training Loss: 0.0832\n",
            "Epoch [17/50] Validation Loss: 0.1002\n",
            "Saved best model.\n",
            "Epoch [18/50] finished. Average Training Loss: 0.0815\n",
            "Epoch [18/50] Validation Loss: 0.0840\n",
            "Saved best model.\n",
            "Epoch [19/50] finished. Average Training Loss: 0.0768\n",
            "Epoch [19/50] Validation Loss: 0.0738\n",
            "Saved best model.\n",
            "Epoch [20/50] finished. Average Training Loss: 0.0895\n",
            "Epoch [20/50] Validation Loss: 0.0707\n",
            "Saved best model.\n",
            "Epoch [21/50] finished. Average Training Loss: 0.0748\n",
            "Epoch [21/50] Validation Loss: 0.0755\n",
            "Validation loss did not improve for 1 epochs.\n",
            "Epoch [22/50] finished. Average Training Loss: 0.0753\n",
            "Epoch [22/50] Validation Loss: 0.0790\n",
            "Validation loss did not improve for 2 epochs.\n",
            "Epoch [23/50] finished. Average Training Loss: 0.0785\n",
            "Epoch [23/50] Validation Loss: 0.0769\n",
            "Validation loss did not improve for 3 epochs.\n",
            "Epoch [24/50] finished. Average Training Loss: 0.0742\n",
            "Epoch [24/50] Validation Loss: 0.0711\n",
            "Validation loss did not improve for 4 epochs.\n",
            "Epoch [25/50] finished. Average Training Loss: 0.0770\n",
            "Epoch [25/50] Validation Loss: 0.0689\n",
            "Saved best model.\n",
            "Epoch [26/50] finished. Average Training Loss: 0.0765\n",
            "Epoch [26/50] Validation Loss: 0.0668\n",
            "Saved best model.\n",
            "Epoch [27/50] finished. Average Training Loss: 0.0745\n",
            "Epoch [27/50] Validation Loss: 0.0710\n",
            "Validation loss did not improve for 1 epochs.\n",
            "Epoch [28/50] finished. Average Training Loss: 0.0756\n",
            "Epoch [28/50] Validation Loss: 0.0731\n",
            "Validation loss did not improve for 2 epochs.\n",
            "Epoch [29/50] finished. Average Training Loss: 0.0709\n",
            "Epoch [29/50] Validation Loss: 0.0682\n",
            "Validation loss did not improve for 3 epochs.\n",
            "Epoch [30/50] finished. Average Training Loss: 0.0714\n",
            "Epoch [30/50] Validation Loss: 0.0639\n",
            "Saved best model.\n",
            "Epoch [31/50] finished. Average Training Loss: 0.0711\n",
            "Epoch [31/50] Validation Loss: 0.0626\n",
            "Saved best model.\n",
            "Epoch [32/50] finished. Average Training Loss: 0.0735\n",
            "Epoch [32/50] Validation Loss: 0.0657\n",
            "Validation loss did not improve for 1 epochs.\n",
            "Epoch [33/50] finished. Average Training Loss: 0.0700\n",
            "Epoch [33/50] Validation Loss: 0.0687\n",
            "Validation loss did not improve for 2 epochs.\n",
            "Epoch [34/50] finished. Average Training Loss: 0.0682\n",
            "Epoch [34/50] Validation Loss: 0.0620\n",
            "Saved best model.\n",
            "Epoch [35/50] finished. Average Training Loss: 0.0677\n",
            "Epoch [35/50] Validation Loss: 0.0582\n",
            "Saved best model.\n",
            "Epoch [36/50] finished. Average Training Loss: 0.0709\n",
            "Epoch [36/50] Validation Loss: 0.0566\n",
            "Saved best model.\n",
            "Epoch [37/50] finished. Average Training Loss: 0.0704\n",
            "Epoch [37/50] Validation Loss: 0.0618\n",
            "Validation loss did not improve for 1 epochs.\n",
            "Epoch [38/50] finished. Average Training Loss: 0.0691\n",
            "Epoch [38/50] Validation Loss: 0.0746\n",
            "Validation loss did not improve for 2 epochs.\n",
            "Epoch [39/50] finished. Average Training Loss: 0.0707\n",
            "Epoch [39/50] Validation Loss: 0.0728\n",
            "Validation loss did not improve for 3 epochs.\n",
            "Epoch [40/50] finished. Average Training Loss: 0.0687\n",
            "Epoch [40/50] Validation Loss: 0.0615\n",
            "Validation loss did not improve for 4 epochs.\n",
            "Epoch [41/50] finished. Average Training Loss: 0.0697\n",
            "Epoch [41/50] Validation Loss: 0.0575\n",
            "Validation loss did not improve for 5 epochs.\n",
            "Epoch [42/50] finished. Average Training Loss: 0.0679\n",
            "Epoch [42/50] Validation Loss: 0.0608\n",
            "Validation loss did not improve for 6 epochs.\n",
            "Epoch [43/50] finished. Average Training Loss: 0.0692\n",
            "Epoch [43/50] Validation Loss: 0.0581\n",
            "Validation loss did not improve for 7 epochs.\n",
            "Epoch [44/50] finished. Average Training Loss: 0.0653\n",
            "Epoch [44/50] Validation Loss: 0.0527\n",
            "Saved best model.\n",
            "Epoch [45/50] finished. Average Training Loss: 0.0689\n",
            "Epoch [45/50] Validation Loss: 0.0533\n",
            "Validation loss did not improve for 1 epochs.\n",
            "Epoch [46/50] finished. Average Training Loss: 0.0649\n",
            "Epoch [46/50] Validation Loss: 0.0527\n",
            "Validation loss did not improve for 2 epochs.\n",
            "Epoch [47/50] finished. Average Training Loss: 0.0643\n",
            "Epoch [47/50] Validation Loss: 0.0534\n",
            "Validation loss did not improve for 3 epochs.\n",
            "Epoch [48/50] finished. Average Training Loss: 0.0618\n",
            "Epoch [48/50] Validation Loss: 0.0531\n",
            "Validation loss did not improve for 4 epochs.\n",
            "Epoch [49/50] finished. Average Training Loss: 0.0599\n",
            "Epoch [49/50] Validation Loss: 0.0509\n",
            "Saved best model.\n",
            "Epoch [50/50] finished. Average Training Loss: 0.0627\n",
            "Epoch [50/50] Validation Loss: 0.0473\n",
            "Saved best model.\n",
            "Finished Training\n"
          ]
        }
      ]
    },
    {
      "cell_type": "markdown",
      "metadata": {
        "id": "a2080714"
      },
      "source": [
        "## Evaluate the Model\n"
      ]
    },
    {
      "cell_type": "code",
      "metadata": {
        "colab": {
          "base_uri": "https://localhost:8080/"
        },
        "id": "196238d3",
        "outputId": "04a021c3-eb8d-4bfd-b87a-5058e278c2d8"
      },
      "source": [
        "# Evaluate the model on the validation set\n",
        "model.eval()  # Set the model to evaluation mode\n",
        "running_val_loss = 0.0\n",
        "with torch.no_grad():  # Disable gradient calculation during evaluation\n",
        "    for inputs, colors, outputs in val_dataloader:\n",
        "        # Move data to the appropriate device\n",
        "        inputs, colors, outputs = inputs.to(device), colors.to(device), outputs.to(device)\n",
        "\n",
        "        # Forward pass\n",
        "        predicted_outputs = model(inputs, colors)\n",
        "\n",
        "        # Calculate loss\n",
        "        loss = criterion(predicted_outputs, outputs)\n",
        "\n",
        "        running_val_loss += loss.item()\n",
        "\n",
        "# Log validation loss\n",
        "val_loss = running_val_loss / len(val_dataloader)\n",
        "print(f'\\nValidation Loss: {val_loss:.4f}')\n",
        "wandb.log({\"val_loss\": val_loss})\n",
        "\n",
        "print(\"Finished Evaluation\")"
      ],
      "execution_count": 39,
      "outputs": [
        {
          "output_type": "stream",
          "name": "stdout",
          "text": [
            "\n",
            "Validation Loss: 0.0473\n",
            "Finished Evaluation\n"
          ]
        }
      ]
    },
    {
      "cell_type": "markdown",
      "metadata": {
        "id": "768356d3"
      },
      "source": [
        "## Saving the trained model\n"
      ]
    },
    {
      "cell_type": "code",
      "metadata": {
        "colab": {
          "base_uri": "https://localhost:8080/"
        },
        "id": "05e4a536",
        "outputId": "19c65fe6-a1b2-41f7-fd74-fb7e236dd6a5"
      },
      "source": [
        "# Define the path to save the model\n",
        "model_save_path = 'best_unet_polygon_coloring_model.pth'\n",
        "\n",
        "# Save the model's state dictionary\n",
        "torch.save(model.state_dict(), model_save_path)\n",
        "\n",
        "print(f\"Model saved to {model_save_path}\")"
      ],
      "execution_count": 40,
      "outputs": [
        {
          "output_type": "stream",
          "name": "stdout",
          "text": [
            "Model saved to Ayna_assignment.pth\n"
          ]
        }
      ]
    },
    {
      "cell_type": "markdown",
      "metadata": {
        "id": "e272824c"
      },
      "source": [
        "# Polygon Coloring Inference"
      ]
    },
    {
      "cell_type": "markdown",
      "metadata": {
        "id": "e5c2f32c"
      },
      "source": [
        "## Load the trained model\n",
        "\n",
        "First, we need to load the saved model weights."
      ]
    },
    {
      "cell_type": "code",
      "metadata": {
        "colab": {
          "base_uri": "https://localhost:8080/"
        },
        "id": "320c8cb6",
        "outputId": "a5f35882-0a5a-4b1e-b8eb-7f98dad00b9e"
      },
      "source": [
        "from PIL import Image\n",
        "\n",
        "import matplotlib.pyplot as plt\n",
        "\n",
        "\n",
        "class DoubleConv(nn.Module):\n",
        "    \"\"\"(convolution => [BN] => ReLU) * 2\"\"\"\n",
        "    def __init__(self, in_channels, out_channels):\n",
        "        super().__init__()\n",
        "        self.double_conv = nn.Sequential(\n",
        "            nn.Conv2d(in_channels, out_channels, kernel_size=3, padding=1),\n",
        "            nn.BatchNorm2d(out_channels),\n",
        "            nn.ReLU(inplace=True),\n",
        "            nn.Conv2d(out_channels, out_channels, kernel_size=3, padding=1),\n",
        "            nn.BatchNorm2d(out_channels),\n",
        "            nn.ReLU(inplace=True)\n",
        "        )\n",
        "\n",
        "    def forward(self, x):\n",
        "        return self.double_conv(x)\n",
        "\n",
        "class Down(nn.Module):\n",
        "    \"\"\"Downsampling with maxpool then double conv\"\"\"\n",
        "    def __init__(self, in_channels, out_channels):\n",
        "        super().__init__()\n",
        "        self.maxpool_conv = nn.Sequential(\n",
        "            nn.MaxPool2d(2),\n",
        "            DoubleConv(in_channels, out_channels)\n",
        "        )\n",
        "\n",
        "    def forward(self, x):\n",
        "        return self.maxpool_conv(x)\n",
        "\n",
        "class Up(nn.Module):\n",
        "    \"\"\"Upsampling then double conv\"\"\"\n",
        "    def __init__(self, in_channels, out_channels, bilinear=True):\n",
        "        super().__init__()\n",
        "\n",
        "        if bilinear:\n",
        "            self.up = nn.Upsample(scale_factor=2, mode='bilinear', align_corners=True)\n",
        "        else:\n",
        "            self.up = nn.ConvTranspose2d(in_channels // 2, in_channels // 2, kernel_size=2, stride=2)\n",
        "\n",
        "        self.conv = DoubleConv(in_channels, out_channels)\n",
        "\n",
        "    def forward(self, x1, x2):\n",
        "        x1 = self.up(x1)\n",
        "        diffY = x2.size()[2] - x1.size()[2]\n",
        "        diffX = x2.size()[3] - x1.size()[3]\n",
        "\n",
        "        x1 = F.pad(x1, [diffX // 2, diffX - diffX // 2,\n",
        "                        diffY // 2, diffY - diffY // 2])\n",
        "\n",
        "        x = torch.cat([x2, x1], dim=1)\n",
        "        return self.conv(x)\n",
        "\n",
        "class OutConv(nn.Module):\n",
        "    def __init__(self, in_channels, out_channels):\n",
        "        super(OutConv, self).__init__()\n",
        "        self.conv = nn.Conv2d(in_channels, out_channels, kernel_size=1)\n",
        "\n",
        "    def forward(self, x):\n",
        "        return self.conv(x)\n",
        "\n",
        "class UNet(nn.Module):\n",
        "    def __init__(self, n_channels, n_classes, n_colors, bilinear=True):\n",
        "        super(UNet, self).__init__()\n",
        "        self.n_channels = n_channels\n",
        "        self.n_classes = n_classes\n",
        "        self.n_colors = n_colors\n",
        "        self.bilinear = bilinear\n",
        "\n",
        "        self.inc = DoubleConv(n_channels + n_colors, 64)\n",
        "        self.down1 = Down(64, 128)\n",
        "        self.down2 = Down(128, 256)\n",
        "        self.down3 = Down(256, 512)\n",
        "        self.down4 = Down(512, 1024)\n",
        "        self.up1 = Up(1024 + 512, 512, bilinear)\n",
        "        self.up2 = Up(512 + 256, 256, bilinear)\n",
        "        self.up3 = Up(256 + 128, 128, bilinear)\n",
        "        self.up4 = Up(128 + 64, 64, bilinear)\n",
        "        self.outc = OutConv(64, n_classes)\n",
        "\n",
        "    def forward(self, x, colors):\n",
        "        colors = colors.unsqueeze(-1).unsqueeze(-1).expand(-1, -1, x.size(2), x.size(3))\n",
        "        x = torch.cat([x, colors], dim=1)\n",
        "\n",
        "        x1 = self.inc(x)\n",
        "        x2 = self.down1(x1)\n",
        "        x3 = self.down2(x2)\n",
        "        x4 = self.down3(x3)\n",
        "        x5 = self.down4(x4)\n",
        "        x = self.up1(x5, x4)\n",
        "        x = self.up2(x, x3)\n",
        "        x = self.up3(x, x2)\n",
        "        x = self.up4(x, x1)\n",
        "        logits = self.outc(x)\n",
        "        return logits\n",
        "\n",
        "\n",
        "# Path to the saved model\n",
        "model_save_path = 'best_unet_polygon_coloring_model.pth'\n",
        "\n",
        "# Initialize the model\n",
        "# Make sure the parameters match the trained model\n",
        "model = UNet(n_channels=3, n_classes=3, n_colors=6)\n",
        "\n",
        "# Load the saved state dictionary\n",
        "model.load_state_dict(torch.load(model_save_path))\n",
        "\n",
        "# Set the model to evaluation mode\n",
        "model.eval()\n",
        "\n",
        "# Move model to GPU if available\n",
        "device = torch.device('cuda' if torch.cuda.is_available() else 'cpu')\n",
        "model.to(device)\n",
        "\n",
        "print(f\"Model loaded successfully from {model_save_path}\")"
      ],
      "execution_count": 41,
      "outputs": [
        {
          "output_type": "stream",
          "name": "stdout",
          "text": [
            "Model loaded successfully from best_unet_polygon_coloring_model.pth\n"
          ]
        }
      ]
    },
    {
      "cell_type": "markdown",
      "metadata": {
        "id": "f1355036"
      },
      "source": [
        "## Perform Inference\n",
        "\n",
        "Now we can use the loaded model to color a polygon image."
      ]
    },
    {
      "cell_type": "code",
      "metadata": {
        "colab": {
          "base_uri": "https://localhost:8080/",
          "height": 411
        },
        "id": "3db88fb3",
        "outputId": "8c7eac24-4233-4c8f-96f2-057c1f848996"
      },
      "source": [
        "# Define the path to an input image and the desired color\n",
        "input_image_path = '/content/dataset/validation/inputs/square.png' # Example input image\n",
        "desired_color_name = 'yellow' # Example color\n",
        "\n",
        "# Define the same transform used during training\n",
        "transform = transforms.Compose([\n",
        "    transforms.Resize((256, 256)), # Resize images to a fixed size\n",
        "    transforms.ToTensor(),       # Convert images to PyTorch tensors\n",
        "])\n",
        "\n",
        "# Load and preprocess the input image\n",
        "input_image = Image.open(input_image_path).convert('RGB')\n",
        "input_tensor = transform(input_image).unsqueeze(0).to(device) # Add batch dimension and move to device\n",
        "\n",
        "# Define the color mapping (must match the one used during training)\n",
        "color_mapping = {\n",
        "    \"red\": [1, 0, 0, 0, 0, 0],\n",
        "    \"green\": [0, 1, 0, 0, 0, 0],\n",
        "    \"blue\": [0, 0, 1, 0, 0, 0],\n",
        "    \"cyan\": [0, 0, 0, 1, 0, 0],\n",
        "    \"magenta\": [0, 0, 0, 0, 1, 0],\n",
        "    \"yellow\": [0, 0, 0, 0, 0, 1]\n",
        "}\n",
        "\n",
        "# Convert the desired color name to its numerical representation\n",
        "color_vector = torch.tensor(color_mapping.get(desired_color_name, [0] * 6), dtype=torch.float32).unsqueeze(0).to(device) # Add batch dimension and move to device\n",
        "\n",
        "# Perform inference\n",
        "with torch.no_grad():\n",
        "    predicted_output_tensor = model(input_tensor, color_vector)\n",
        "\n",
        "# Post-process the output tensor\n",
        "predicted_output_tensor = predicted_output_tensor.squeeze(0).cpu() # Remove batch dimension and move to CPU\n",
        "predicted_output_image = transforms.ToPILImage()(predicted_output_tensor)\n",
        "\n",
        "# Display the input image and the predicted output image\n",
        "fig, axes = plt.subplots(1, 2, figsize=(10, 5))\n",
        "axes[0].imshow(input_image)\n",
        "axes[0].set_title('Input Polygon')\n",
        "axes[0].axis('off')\n",
        "\n",
        "axes[1].imshow(predicted_output_image)\n",
        "axes[1].set_title(f'Predicted Colored Polygon ({desired_color_name})')\n",
        "axes[1].axis('off')\n",
        "\n",
        "plt.show()"
      ],
      "execution_count": 42,
      "outputs": [
        {
          "output_type": "display_data",
          "data": {
            "text/plain": [
              "<Figure size 1000x500 with 2 Axes>"
            ],
            "image/png": "[encoded data removed]"
          },
          "metadata": {}
        }
      ]
    }
  ]
}